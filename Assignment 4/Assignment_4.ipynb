{
 "cells": [
  {
   "cell_type": "code",
   "execution_count": 1,
   "metadata": {},
   "outputs": [],
   "source": [
    "import lib_ar as ar\n",
    "import numpy as np\n",
    "import matplotlib.pyplot as plt"
   ]
  },
  {
   "cell_type": "code",
   "execution_count": 3,
   "metadata": {},
   "outputs": [
    {
     "name": "stdout",
     "output_type": "stream",
     "text": [
      "8.0\n",
      "[8. 6. 4. 2.]\n"
     ]
    }
   ],
   "source": [
    "#Q1 \n",
    "\n",
    "def power_method(A, num_simulations: int):\n",
    "    n = A.shape[0]\n",
    "    \n",
    "    # Step 1: Initialize a random vector\n",
    "    v = np.random.rand(n)\n",
    "    \n",
    "    # Step 2: Power method iterations\n",
    "    for _ in range(num_simulations):\n",
    "        # Multiply v by the matrix\n",
    "        Av = np.dot(A, v)\n",
    "        \n",
    "        # Normalize Av\n",
    "        v = Av / np.linalg.norm(Av)\n",
    "        \n",
    "    # Step 3: Calculate the eigenvalue\n",
    "    eigenvalue = np.dot(v, np.dot(A, v)) / np.dot(v, v)\n",
    "    \n",
    "    return eigenvalue\n",
    "\n",
    "\n",
    "def gram_schmidt(A):\n",
    "    Q = np.zeros_like(A)\n",
    "    R = np.zeros((A.shape[1], A.shape[1]))\n",
    "\n",
    "    for k in range(A.shape[1]):\n",
    "        R[k, k] = np.linalg.norm(A[:, k])\n",
    "        Q[:, k] = A[:, k] / R[k, k]\n",
    "        for j in range(k + 1, A.shape[1]):\n",
    "            R[k, j] = np.dot(Q[:, k], A[:, j])\n",
    "            A[:, j] = A[:, j] - R[k, j] * Q[:, k]\n",
    "    return Q, R\n",
    "\n",
    "def qr_factorization(A, num_simulations: int):\n",
    "    for _ in range(num_simulations):\n",
    "        Q, R = gram_schmidt(A)\n",
    "        A = R @ Q\n",
    "    return np.diag(A)\n",
    "\n",
    "A = np.array([[4,2/3,-4/3,4/3],[2/3,4,0,0],[-4/3,0,6,2],[4/3,0,2,6]])\n",
    "\n",
    "eigenvalue = power_method(A, 1000)\n",
    "print(eigenvalue)\n",
    "\n",
    "eigenvalues = qr_factorization(A, 1000)\n",
    "print(eigenvalues)\n"
   ]
  },
  {
   "cell_type": "code",
   "execution_count": 24,
   "metadata": {},
   "outputs": [
    {
     "name": "stdout",
     "output_type": "stream",
     "text": [
      "coefficients: \n",
      " a3: 7.668677622911056\n",
      " a2: -11.128217777645723\n",
      " a1: 4.725861442142919\n",
      " a0: 0.5746586674195354\n"
     ]
    }
   ],
   "source": [
    "import pandas as pd\n",
    "\n",
    "# Read the file\n",
    "data = pd.read_csv('assign3fit.txt', sep='\\t', comment='#', header=None)\n",
    "\n",
    "x  = data[0].values\n",
    "y  = data[1].values\n",
    "\n",
    "# Create the Vandermonde matrix\n",
    "V = np.column_stack([x**(3-i) for i in range(4)])\n",
    "\n",
    "# Solve for c\n",
    "coefficients = np.linalg.lstsq(V, y, rcond=None)[0]\n",
    "a3, a2, a1, a0 = coefficients\n",
    "\n",
    "# Print the coefficients\n",
    "print(f\"coefficients: \\n a3: {a3}\\n a2: {a2}\\n a1: {a1}\\n a0: {a0}\")\n"
   ]
  },
  {
   "cell_type": "code",
   "execution_count": 19,
   "metadata": {},
   "outputs": [
    {
     "name": "stdout",
     "output_type": "stream",
     "text": [
      "coefficients: \n",
      " a3: 0.23964617571597022\n",
      " a2: 0.04684983209010629\n",
      " a1: 0.3935144679881527\n",
      " a0: 1.160969479033552\n"
     ]
    }
   ],
   "source": [
    "# Define the basis functions\n",
    "phi_0 = np.ones_like(x)\n",
    "phi_1 = 2*x - 1\n",
    "phi_2 = 8*x**2 - 8*x + 1\n",
    "phi_3 = 32*x**3 - 48*x**2 + 18*x - 1\n",
    "\n",
    "# Create the matrix for the basis functions\n",
    "V = np.column_stack([phi_0, phi_1, phi_2, phi_3])\n",
    "\n",
    "# Solve for coefficients\n",
    "coefficients = np.linalg.lstsq(V, y, rcond=None)[0]\n",
    "\n",
    "a0, a1, a2, a3 = coefficients\n",
    "\n",
    "# Print the coefficients\n",
    "print(f\"coefficients: \\n a3: {a3}\\n a2: {a2}\\n a1: {a1}\\n a0: {a0}\")"
   ]
  }
 ],
 "metadata": {
  "kernelspec": {
   "display_name": "Python 3",
   "language": "python",
   "name": "python3"
  },
  "language_info": {
   "codemirror_mode": {
    "name": "ipython",
    "version": 3
   },
   "file_extension": ".py",
   "mimetype": "text/x-python",
   "name": "python",
   "nbconvert_exporter": "python",
   "pygments_lexer": "ipython3",
   "version": "3.10.12"
  }
 },
 "nbformat": 4,
 "nbformat_minor": 2
}
